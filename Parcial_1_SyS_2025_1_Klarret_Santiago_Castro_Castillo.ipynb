{
  "nbformat": 4,
  "nbformat_minor": 0,
  "metadata": {
    "colab": {
      "private_outputs": true,
      "provenance": [],
      "authorship_tag": "ABX9TyNou/AcrE4mlXg2NpvCbYDB",
      "include_colab_link": true
    },
    "kernelspec": {
      "name": "python3",
      "display_name": "Python 3"
    },
    "language_info": {
      "name": "python"
    }
  },
  "cells": [
    {
      "cell_type": "markdown",
      "metadata": {
        "id": "view-in-github",
        "colab_type": "text"
      },
      "source": [
        "<a href=\"https://colab.research.google.com/github/Klarret05/SenalesySistemas/blob/main/Parcial_1_SyS_2025_1_Klarret_Santiago_Castro_Castillo.ipynb\" target=\"_parent\"><img src=\"https://colab.research.google.com/assets/colab-badge.svg\" alt=\"Open In Colab\"/></a>"
      ]
    },
    {
      "cell_type": "markdown",
      "source": [
        "# ***Parcial 1: Conceptos Básicos y Serie de Fourier***\n",
        "# ***C.C. 1090273398***\n",
        "***Klarret Santiago Castro Castillo***\n",
        "---\n",
        "\n"
      ],
      "metadata": {
        "id": "6B5Y0TKGJtyh"
      }
    },
    {
      "cell_type": "markdown",
      "source": [
        "## **Punto 1**"
      ],
      "metadata": {
        "id": "eRn6FaRxkxDC"
      }
    },
    {
      "cell_type": "markdown",
      "source": [
        "**Punto 1:** Se tiene un microprocesador de 5 bits con entrada análoga de -3.3 a 5 [V]. Diseñe el sistema de acondicionamiento y digitalización para la señal:\n",
        "\n",
        "\\begin{equation}\n",
        "x(t) = 20\\sin\\left(7t - \\frac{\\pi}{2}\\right) - 3\\cos(5t) + 2\\cos(10t)\n",
        "\\end{equation}\n",
        "\n",
        "Presente las simulaciones y gráficas de los procedimientos más representativos en un cuaderno de Python, incluyendo al menos dos períodos de la señal estudiada."
      ],
      "metadata": {
        "id": "iWUJh7mMKKdt"
      }
    },
    {
      "cell_type": "code",
      "source": [
        "'''Importar las bibliotecas necesarias'''\n",
        "import numpy as np\n",
        "import matplotlib.pyplot as plt\n",
        "from scipy.spatial.distance import cdist"
      ],
      "metadata": {
        "id": "wumqcw78c9kA"
      },
      "execution_count": null,
      "outputs": []
    },
    {
      "cell_type": "code",
      "source": [
        "'''Funciones necesarias'''\n",
        "#La función my_ceropen o cero pendiente, se encarga de ajustar la señal, es un paso condicional en donde el rango de la señal de entrada, es mapeada a un rango de salida diferente.\n",
        "def my_ceropen(x,ymin = -3.3, ymax = 5): #Insertamos nuestro rango de entrada análoga (-3.3 a 5 [V]), como ymin, ymax, respectivamente.\n",
        "  xmax = 25\n",
        "  xmin = -25 # El valor de xmax y xmin, sale de la suma de amplitudes de las ondas de la señal dada, 20+3+2=25\n",
        "  m = (ymax - ymin)/(xmax - xmin) #Se calcula la pendiente\n",
        "  b = ymin - m*xmin #Y el intercepto\n",
        "  yv = m*x + b #Por ultimo, se calcula la señal ajustada, con el cero pendiente, y la retorna.\n",
        "  return yv\n",
        "\n",
        "#La función de my_cuantizador, ejecuta un proceso de cuantización, en este proceso realiza un mapeo de un rango continuo de valores a una serie de valores discretos, conocidos como estados o niveles de cuantización.\n",
        "def my_cuantizador(yn, vq) : #yn será un punto en el plano, el cual necesita ser cuantizado. En cambio, vq será el vector de los estados cuantizados.\n",
        "\n",
        "  Ne = vq.shape[0] #tamaño vector de estados\n",
        "  dn = cdist(yn.reshape(-1,1),vq.reshape(-1,1))#distancia yn (punto en el plano) al vector de estados cuantizados vq, la función .reshape(-1,1) asegura vectores columna para poder utilizar la biblioteca importada, cdist.\n",
        "  ind = np.argmin(dn) #posición distancia, entre más pequeña sea, el estado de cuantización en vq está cerca del valor de entrada yn.\n",
        "  return vq[ind] #.armin sirve para encontrar cual de lo niveles de cuantización es el más cercano al punto de valor de entrada.\n"
      ],
      "metadata": {
        "id": "VP-nNDbPdTSt"
      },
      "execution_count": null,
      "outputs": []
    },
    {
      "cell_type": "code",
      "source": [
        "'''Cero y Pendiente, velocidad angular, periodo, frecuencia'''\n",
        "A1 = 20 # amplitud 1ra señal - seno\n",
        "A2 = -3 # amplitud 2da señal - coseno\n",
        "A3 = 2 # amplitud 3ra señal - coseno\n",
        "\n",
        "#Para el paso de seno a coseno de la primera señal, se aplica la ecuación: sin(wt+90)=-coswt, por lo tanto, la señal queda -cos(7t-(pi/2)+pi/2)=-cos(7t)\n",
        "\n",
        "T_1 = (2/7)*np.pi # Cos 1\n",
        "T_2 = (2/5)*np.pi # Cos 2\n",
        "T_3 = (2/10)*np.pi # Cos 3\n",
        "\n",
        "#Luego de haber sacado los periodos fundamentales de cada señal, se busca la frecuencia angular. Sabiendo que w= 2pi/T\n",
        "\n",
        "w1=7\n",
        "w2=5\n",
        "w3=10\n",
        "\n",
        "#Despues, teniendo velocidad angular y periodo, se halla la frecuencia de cada una. F=1/T, siendo esta el inverso de su periodo.\n",
        "\n",
        "f1=1/T_1\n",
        "f2=1/T_2\n",
        "f3=1/T_3\n",
        "\n",
        "#Para establecer los intervalos del tiempo, se es necesario tener en cuenta que el tiempo final, será igual al producto entre el periodo más grande y 4.\n",
        "\n",
        "ti = 0 #tiempo inicial\n",
        "tf = 4*T_2 #tiempo final\n",
        "Fs = 36 # Por teorema de Nyquist, la frecuencia debe ser como minimo 2 o más veces la frecuencia máxima de las 3 señales. (Fs>=2Fmax)\n",
        "Ts = 1/Fs\n",
        "tv = np.arange(ti,tf,Ts) #vector de datos en tiempo #discretizar\n",
        "y = A1*np.sin(w1*tv-np.pi/2)+ A2*np.cos(w2*tv)+ A3*np.cos(w3*tv) #vector de datos en amplitud\n",
        "\n",
        "#cero y pendiente\n",
        "ymin = -3.3\n",
        "ymax = 5\n",
        "nbits = 5 #Número de bits\n",
        "plt.plot(y,label='y(t)') #continua"
      ],
      "metadata": {
        "id": "ns5xaYjodWp-"
      },
      "execution_count": null,
      "outputs": []
    },
    {
      "cell_type": "code",
      "source": [
        "ycs = my_ceropen(y, ymin,ymax)#recta aplicada con cero y pendiente\n",
        "ve = np.linspace(ymin,ymax,2**nbits)#Vector de cuantización de cada uno de los estados.\n",
        "\n",
        "#Este ciclo ejecutara de la forma de que cada una de las muestras de la recta ycs, encuentre el punto proximo al vector de cuantización, es decir, los estados, hasta que recorra los 32 estados.\n",
        "for i in range(ycs.shape[0]):\n",
        "   if i==0: #primera muestra\n",
        "     yq = my_cuantizador(ycs[i],ve)\n",
        "   else:\n",
        "     yq = np.append(yq,my_cuantizador(ycs[i],ve)) #apilar datos cuantizando si i>0\n",
        "\n",
        "#Este ciclo trazara una linea horizontal a lo largo del vector del tiempo tv en dicha amplitud.\n",
        "for v in ve:\n",
        "  plt.plot(tv,v*np.ones(len(tv)))#estados de cuantización\n",
        "\n",
        "plt.stem(tv,yq , linefmt=\"b\", markerfmt=\"go\", basefmt=\"\", label=\"Señal Discretizada\")\n",
        "plt.plot(tv,ycs,label='ycp(t)') #discreta cero y pendiente\n",
        "plt.plot(tv,yq,c='y',marker='o',label='ydig', linewidth=2) #cuantizada + discreta = digital\n",
        "plt.legend()\n",
        "plt.grid()\n",
        "plt.xlabel('t')\n",
        "plt.ylabel('Amplitud')\n",
        "plt.show()\n",
        "print(\"Señal discretizada\")"
      ],
      "metadata": {
        "id": "Y5U2L7G8deI-"
      },
      "execution_count": null,
      "outputs": []
    },
    {
      "cell_type": "markdown",
      "source": [
        "## **Punto 2**"
      ],
      "metadata": {
        "id": "0rC636XZk6-Q"
      }
    },
    {
      "cell_type": "markdown",
      "source": [
        "**Punto 2:** Cuál es la señal obtenida en tiempo discreto al utilizar un conversor análogo digital con frecuencia de muestreo de 5kHz, aplicado a la señal\n",
        "\n",
        "\\begin{equation}\n",
        "x(t) = 3\\cos\\left(100{\\pi}t\\right) + 5\\sin(2000{\\pi}t) + 10\\cos(11000{\\pi}t)\n",
        "\\end{equation}\n",
        "\n",
        "Realizar la simulación del proceso de discretización. En caso de que la discretización no sea apropiada, diseñe e implemente un conversor adecuado para la señal estudiada."
      ],
      "metadata": {
        "id": "3Bnq0njBPGki"
      }
    },
    {
      "cell_type": "code",
      "source": [
        "'''Importar las bibliotecas necesarias'''\n",
        "import numpy as np\n",
        "import matplotlib.pyplot as plt\n",
        "from scipy import signal\n",
        "\n",
        "# Definir las frecuencias de las componentes de la señal en Hertz (Hz).\n",
        "f1 = 500   # Hz\n",
        "f2 = 1000  # Hz\n",
        "f3 = 5500  # Hz\n",
        "\n",
        "# Establecer una frecuencia de muestreo muy alta para simular una señal continua.\n",
        "fs_high = 15000  # Frecuencia de muestreo alta para simular señal \"continua\"\n",
        "\n",
        "# Crear un vector de tiempo para la señal de alta frecuencia. Se elige un intervalo corto (0.01s) para visualización.\n",
        "t_high = np.arange(0, 0.01, 1/fs_high)  # Vector de tiempo para la señal \"continua\"\n",
        "\n",
        "# Generar la señal original sumando tres componentes sinusoidales con sus respectivas amplitudes y frecuencias.\n",
        "x_high = (3 * np.cos(2 * np.pi * f1 * t_high) +\n",
        "          5 * np.sin(2 * np.pi * f2 * t_high) +\n",
        "          10 * np.cos(2 * np.pi * f3 * t_high))\n",
        "\n",
        "# --- Diseño e implementación del filtro antialiasing ---\n",
        "\n",
        "# Calcular la frecuencia de Nyquist, que es la mitad de la frecuencia de muestreo de la señal \"continua\".\n",
        "nyquist = 0.5 * fs_high\n",
        "\n",
        "# Definir la frecuencia de corte para el filtro paso bajo.\n",
        "cutoff = 2500  # Frecuencia de corte del filtro antialiasing\n",
        "\n",
        "# Definir el orden del filtro. Un orden mayor generalmente resulta en una transición más pronunciada.\n",
        "order = 6\n",
        "\n",
        "# Normalizar la frecuencia de corte con respecto a la frecuencia de Nyquist.\n",
        "normal_cutoff = cutoff / nyquist\n",
        "\n",
        "# Diseñar el filtro Butterworth de paso bajo utilizando los parámetros definidos.\n",
        "# La función devuelve los coeficientes del numerador (b) y del denominador (a) del filtro.\n",
        "b, a = signal.butter(order, normal_cutoff, btype='low')\n",
        "\n",
        "# Aplicar el filtro a la señal \"continua\".\n",
        "# signal.filtfilt aplica el filtro hacia adelante y hacia atrás para evitar desfases.\n",
        "x_filtered = signal.filtfilt(b, a, x_high)\n",
        "\n",
        "# --- Muestreo de la señal filtrada ---\n",
        "\n",
        "# Definir la frecuencia de muestreo a la que se discretizará la señal.\n",
        "fs_low = 5000  # Frecuencia de muestreo deseada (5 kHz)\n",
        "\n",
        "# Calcular el factor de diezmado (cuántas muestras de la señal de alta frecuencia se tomarán para obtener la señal de baja frecuencia).\n",
        "factor = int(fs_high / fs_low)\n",
        "\n",
        "# Muestrear la señal filtrada tomando una muestra cada 'factor' muestras.\n",
        "x_filtered_low = x_filtered[::factor]\n",
        "\n",
        "# Obtener el vector de tiempo correspondiente a las muestras discretas.\n",
        "t_low = t_high[::factor]\n",
        "\n",
        "# --- Cálculo de las Transformadas de Fourier ---\n",
        "\n",
        "# Calcular la FFT de la señal original de alta frecuencia.\n",
        "fft_high = np.fft.rfft(x_high)\n",
        "\n",
        "# Calcular las frecuencias correspondientes a los puntos de la FFT de alta frecuencia.\n",
        "freqs_high = np.fft.rfftfreq(len(x_high), 1/fs_high)\n",
        "\n",
        "# Calcular la FFT de la señal discretizada de baja frecuencia.\n",
        "fft_filtered = np.fft.rfft(x_filtered_low)\n",
        "\n",
        "# Calcular las frecuencias correspondientes a los puntos de la FFT de baja frecuencia.\n",
        "freqs_low = np.fft.rfftfreq(len(x_filtered_low), 1/fs_low)\n",
        "\n",
        "# --- Graficar los resultados en el dominio del tiempo y la frecuencia ---\n",
        "\n",
        "# Crear una figura con un tamaño específico para las subplots.\n",
        "plt.figure(figsize=(12, 10))\n",
        "\n",
        "# Subplot 1: Señal original en el dominio del tiempo.\n",
        "plt.subplot(3, 2, 1)\n",
        "plt.plot(t_high, x_high, label='Original')\n",
        "plt.title('Señal original (Dominio del tiempo)')\n",
        "plt.xlabel('Tiempo [s]')\n",
        "plt.xlim(0, 0.005)  # Limitar el eje x para mostrar solo los primeros 5 ms\n",
        "\n",
        "# Subplot 2: Espectro de la señal original (magnitud).\n",
        "plt.subplot(3, 2, 2)\n",
        "plt.plot(freqs_high, np.abs(fft_high))\n",
        "plt.title('Espectro original')\n",
        "plt.xlabel('Frecuencia [Hz]')\n",
        "plt.xlim(0, 6000) # Limitar el eje x para visualizar las componentes principales\n",
        "\n",
        "# Subplot 3: Señal filtrada en el dominio del tiempo.\n",
        "plt.subplot(3, 2, 3)\n",
        "plt.plot(t_high, x_filtered, 'red', label='Filtrada')\n",
        "plt.title('Señal después del filtro antialiasing')\n",
        "plt.xlabel('Tiempo [s]')\n",
        "plt.xlim(0, 0.005) # Limitar el eje x\n",
        "\n",
        "# Subplot 4: Espectro de la señal filtrada (magnitud).\n",
        "plt.subplot(3, 2, 4)\n",
        "plt.plot(freqs_high, np.abs(np.fft.rfft(x_filtered)), color='r')\n",
        "plt.title('Espectro después del filtro')\n",
        "plt.xlabel('Frecuencia [Hz]')\n",
        "plt.xlim(0, 6000) # Limitar el eje x\n",
        "\n",
        "# Subplot 5: Señal discretizada en el dominio del tiempo (utilizando un stem plot para mostrar muestras discretas).\n",
        "plt.subplot(3, 2, 5)\n",
        "plt.stem(t_low, x_filtered_low, linefmt='C3-', markerfmt='C3o', basefmt='C3-')\n",
        "plt.title('Señal discretizada (5 kHz)')\n",
        "plt.xlabel('Tiempo [s]')\n",
        "plt.xlim(0, 0.005) # Limitar el eje x\n",
        "\n",
        "# Subplot 6: Espectro de la señal discretizada (magnitud).\n",
        "plt.subplot(3, 2, 6)\n",
        "plt.plot(freqs_low, np.abs(fft_filtered), color='red')\n",
        "plt.title('Espectro discretizado')\n",
        "plt.xlabel('Frecuencia [Hz]')\n",
        "plt.xlim(0, 2500) # Limitar el eje x al rango de frecuencias representable (Nyquist de la señal discretizada)\n",
        "\n",
        "# Ajustar el espaciado entre subplots para evitar superposiciones.\n",
        "plt.tight_layout()\n",
        "\n",
        "# Mostrar las gráficas.\n",
        "plt.show()\n",
        "\n",
        "# --- Mostrar resultados numéricos y conclusiones ---\n",
        "\n",
        "# Imprimir las primeras 10 muestras de la señal discretizada para inspección.\n",
        "print(\"\\nPrimeras 10 muestras de la señal discretizada:\")\n",
        "print(np.round(x_filtered_low[:10], 4)) # Redondear a 4 decimales para mejor legibilidad\n",
        "\n",
        "# Presentar una conclusión sobre el proceso y el efecto del filtro antialiasing.\n",
        "print(\"Conclusión:\")\n",
        "print(\"- La frecuencia de muestreo de 5 kHz no es adecuada para la componente de 5500 Hz (aparece aliasing a 500 Hz).\")\n",
        "print(\"- Se implementó un filtro antialiasing de 2500 Hz para eliminar frecuencias altas.\")\n",
        "print(\"- La señal discretizada correctamente contiene solo las componentes de 500 Hz y 1000 Hz.\")"
      ],
      "metadata": {
        "id": "AiQzpdSWregi"
      },
      "execution_count": null,
      "outputs": []
    },
    {
      "cell_type": "markdown",
      "source": [
        "## **Punto 3**"
      ],
      "metadata": {
        "id": "esA_UtwmlHIc"
      }
    },
    {
      "cell_type": "markdown",
      "source": [
        "**Punto 3:** La distancia media entre dos señales \\begin{equation}\n",
        "x_1(t), x_2(t) \\in \\mathbb{R},\\, \\mathbb{C}\n",
        "\\end{equation} , se puede expresar a partit de la potencia media:\n",
        "\n",
        "\\begin{equation}\n",
        "d(x_1, x_2) = \\overline{P}_{x_1 - x_2} = \\lim_{T \\to \\infty} \\frac{1}{T} \\int_{0}^{T} |x_1(t) - x_2(t)|^2 \\, dt.\n",
        "\\end{equation}\n",
        "\n",
        "Sean \\begin{equation}\n",
        "x_1(t), x_2(t):\n",
        "\\end{equation}\n",
        "\n",
        "\\begin{equation}\n",
        "x_1(t) = A \\cos(w_0 t), \\quad w_0 = \\frac{2\\pi}{T}, \\quad T, A \\in \\mathbb{R}^+\n",
        "\\end{equation}\n",
        "\n",
        "\\begin{equation}\n",
        "x_2(t) =\n",
        "\\begin{cases}\n",
        "1  & \\text{si } 0 \\leq l < \\frac{T}{4} \\\\\n",
        "-1 & \\text{si } \\frac{T}{4} \\leq l < \\frac{3T}{4} \\\\\n",
        "1  & \\text{si } \\frac{3T}{4} \\leq l < T\n",
        "\\end{cases}\n",
        "\\end{equation}\n",
        "\n",
        "¿Cuál es la distancia media entre las señales?. Corrobore sus desarrollos con Sympy.\n"
      ],
      "metadata": {
        "id": "BdDWqarqQviP"
      }
    },
    {
      "cell_type": "code",
      "source": [
        "'''Importar las bibliotecas necesarias'''\n",
        "import sympy as sp\n",
        "\n",
        "# Se definen las variables simbolicas a utilizar.\n",
        "A,t, T = sp.symbols('A t T', real=True, positive=True)\n",
        "w0 = 2 * sp.pi / T\n",
        "# Definición de las señales\n",
        "x1 = A*sp.cos(w0 * t)\n",
        "\n",
        "# Definición por partes de ambas funciones, esto mediante .piecewise,que permite que una función tenga distintos valores en diferentes intervalos de t.\n",
        "x2 = sp.Piecewise(\n",
        "    (1, (t >= 0) & (t < T/4)),\n",
        "    (-1, (t >= T/4) & (t < 3*T/4)),\n",
        "    (1, (t >= 3*T/4) & (t < T))\n",
        ")\n",
        "\n",
        "# Función a integrar se define como f: (calcula la diferencia al cuadrado entre las dos señales x1, x2)\n",
        "f = (x1 - x2)**2\n",
        "\n",
        "# Se emplea la integral tramo por tramo, para al final sumarlas.\n",
        "integral = sp.integrate(f, (t, 0, T/4)) + sp.integrate(f, (t, T/4, 3*T/4)) + sp.integrate(f, (t, 3*T/4, T))\n",
        "\n",
        "# Para este punto se tiene en cuenta que la distancia se define como la división de la integral dada entre el periodo.\n",
        "distancia_media = integral / T\n",
        "\n",
        "# Simplificación de la expresión de la distancia\n",
        "distancia_media_simplificada = sp.simplify(distancia_media)\n",
        "\n",
        "distancia_media_simplificada"
      ],
      "metadata": {
        "id": "XtOwuuQDc_JF"
      },
      "execution_count": null,
      "outputs": []
    },
    {
      "cell_type": "markdown",
      "source": [
        "## **Punto 4**"
      ],
      "metadata": {
        "id": "DdcZBitwlOmz"
      }
    },
    {
      "cell_type": "markdown",
      "source": [
        "**Punto 4:** Sea x''(x) la segunda derivada de la señal x(t), donde t    - Duemuestre que los coeficientes de la serie exponencial de Fourier se pueden calcular según:\n",
        "\n",
        "\\\n",
        "\\begin{align*}\n",
        "c_n = \\frac{1}{(t_i - t_f) n^2 w_o^2} \\int_{t_i}^{t_f} x''(t) e^{-j n w_o t} \\, dt; \\quad n \\in \\mathbb{Z}.\n",
        "\\end{align*}\n",
        "\n",
        "¿Cómo se pueden calcular los coeficientes an y bn desde en la serie trigonométrica de Fourier?.\n",
        "\n",
        "Encuentre el espectro de Fourier, su magnitud, fase, parte real, parte imaginaria y el error relativo de reconstrucción para \\begin{equation}\n",
        "n \\in \\{0, \\pm 1, \\pm 2, \\pm 3, \\pm 4, \\pm 5\\} \\end{equation}\n",
        ", a partir de x''(t) para la señal x(t) en la Figura 1. Compruebe el espectro obtenido con la estimación a partir de x(t) y presente las respectivas simulaciones sobre Python.\n"
      ],
      "metadata": {
        "id": "FD4zjR1EXY9J"
      }
    },
    {
      "cell_type": "code",
      "source": [
        "'''Importar las bibliotecas necesarias'''\n",
        "from ipywidgets import interact,IntSlider\n",
        "\n",
        "#Parametros  relacionados a la forma y escala de la señal a generar\n",
        "A=1\n",
        "d2=2\n",
        "d1=1\n",
        "\n",
        "#Generar señal parametrizada en función del tiempo\n",
        "T = 2*d2 # Duración total de la señal para ser graficada\n",
        "Fo = 1/T # Frecuencia fundamental de la señal\n",
        "Fs = 1000*Fo # Frecuencia de muestreo\n",
        "tv = np.arange(-T/2,T/2,1/Fs) #vector de tiempo, el cual esta formado valores espaciados en secuencia dentro del intervalo.\n",
        "Nm = len(tv) #Número de estados de cuantización.\n",
        "\n",
        "#Genera valores basados en la figura geometrica del trapecio, siendo x, la variable con la que esta trabajara, y a,b,c,d serán los que definiran la forma del mismo.\n",
        "def funcion_trapecio(x, a, b, c, d):\n",
        "    \"\"\"\n",
        "\n",
        "    Parámetros:\n",
        "x: Un arreglo de NumPy con los valores del eje x.\n",
        "a: La coordenada x donde comienza la pendiente ascendente del trapecio.\n",
        "b: La coordenada x donde comienza la parte plana (meseta) del trapecio.\n",
        "c: La coordenada x donde termina la parte plana (meseta) del trapecio.\n",
        "d: La coordenada x donde termina la pendiente descendente del trapecio.\n",
        "    \"\"\"\n",
        "    return np.maximum(0, np.minimum((x - a) / (b - a), np.minimum(1, (d - x) / (d - c))))\n",
        "\n",
        "# Ejemplo de uso\n",
        "x = funcion_trapecio(tv, -d2, -d1, d1, d2)\n",
        "\n",
        "\n",
        "\n",
        "#graficar señal original\n",
        "plt.plot(tv,x,'b',linewidth=4)\n",
        "plt.grid()\n",
        "plt.xlabel(\"t[s]\",fontsize = 14)\n",
        "plt.ylabel(\"x(t)\",fontsize = 14)\n",
        "plt.show()"
      ],
      "metadata": {
        "id": "KtFiJbESdAdW"
      },
      "execution_count": null,
      "outputs": []
    },
    {
      "cell_type": "code",
      "source": [
        "N = 5 #numero armonicos\n",
        "wo = 2*np.pi/T # frecuencia fundamental\n",
        "# Creación de bases, funciones de base para las series exponenciales de Fourier, en esta se usaran exponenciales complejos como base.\n",
        "phin = np.zeros((Nm,2*N+1),np.complex128)#arreglo de ceros que guardara las bases exponenciales complejas.\n",
        "for n in range(-N,N+1,1):\n",
        "    phin[:,n+N] = np.exp(1j*n*wo*tv)#base de fourier en el intervalo de interés, va ir con el armonico de -a hacia +a. Donde calculara el exponencial complejo de cada armonico n.\n",
        "\n",
        "#Calcula el espectro,pero con los coeficientes de series de Fourier basados en la señal del trapecio hecha previamente.\n",
        "cn = np.zeros(2*N+1,np.complex128)\n",
        "nv = np.linspace(-N, N, 2*N+1) #Vector de armonicos\n",
        "Cn = (-2*(np.cos(nv*np.pi)-np.cos(nv*np.pi*0.5)))/(np.pi**2*nv**2)\n",
        "Cn[N] = 3/4 #Nivel DC (Componente real)"
      ],
      "metadata": {
        "id": "4hvbXNkog859"
      },
      "execution_count": null,
      "outputs": []
    },
    {
      "cell_type": "code",
      "source": [
        "#graficar espectro\n",
        "fig = plt.figure(figsize=(8,8))\n",
        "plt.subplot(2,2,1)\n",
        "plt.stem(nv, np.real(Cn), 'r')\n",
        "plt.xlabel(r'$nw_o$[rad/s]',fontsize = 14)\n",
        "plt.ylabel(r'$Re\\{C_n\\}$',fontsize = 14)\n",
        "plt.axis('tight')\n",
        "plt.grid()\n",
        "\n",
        "plt.subplot(2,2,2)\n",
        "plt.stem(nv, np.imag(Cn), 'r')\n",
        "plt.xlabel(r'$nw_o$[rad/s]',fontsize = 14)\n",
        "plt.ylabel(r'$Im\\{C_n\\}$',fontsize = 14)\n",
        "plt.axis('tight')\n",
        "plt.grid()\n",
        "\n",
        "plt.subplot(2,2,3)\n",
        "plt.stem(nv, abs(Cn), 'r')#magnitud del espectro\n",
        "plt.xlabel(r'$nw_o$[rad/s]',fontsize = 14)\n",
        "plt.ylabel(r'$|C_n|$',fontsize = 14)\n",
        "plt.axis('tight')\n",
        "plt.grid()\n",
        "\n",
        "plt.subplot(2,2,4)\n",
        "plt.stem(nv, np.angle(Cn), 'r')#fase del espectro\n",
        "plt.xlabel(r'$nw_o$[rad/s]',fontsize = 14)\n",
        "plt.ylabel(r'$\\langle C_n$',fontsize = 14)\n",
        "plt.axis('tight')\n",
        "plt.grid()\n",
        "\n",
        "fig.tight_layout()"
      ],
      "metadata": {
        "id": "2meJa1lMhGxY"
      },
      "execution_count": null,
      "outputs": []
    },
    {
      "cell_type": "code",
      "source": [
        "Px = 2/3 # Potencia de la señal original\n",
        "\n",
        "# La función pltest, ayuda a la reconstrucción y grafico de la señal\n",
        "def pltest(Na=1):\n",
        "    ind = np.arange(N-Na,N+Na+1)\n",
        "    er = 1- np.sum(abs(Cn[ind])**2)/Px\n",
        "    #señal reconstruida\n",
        "    xe = phin[:,ind].dot(Cn[ind] ) # dot calcula el producto entre vectores\n",
        "    plt.plot(tv,xe,color='b',label='$x_e(t)$') # señal estimada o filtrada\n",
        "    plt.plot(tv,x,color='g',label='x(t)') #señal original\n",
        "    plt.title('$E_r$=%.2f[%%]' % (100*er),fontsize=16)\n",
        "    plt.xlabel('t[s]')\n",
        "    plt.ylabel('x(t)')\n",
        "    plt.grid()\n",
        "    plt.legend()\n",
        "    plt.show()\n",
        "\n",
        "    return\n",
        "interact(pltest,Na=(1,N,1))"
      ],
      "metadata": {
        "id": "Qb3-R06thKPh"
      },
      "execution_count": null,
      "outputs": []
    }
  ]
}